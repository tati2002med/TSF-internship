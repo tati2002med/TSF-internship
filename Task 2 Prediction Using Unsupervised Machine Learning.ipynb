{
 "cells": [
  {
   "cell_type": "markdown",
   "id": "ebbcd868",
   "metadata": {},
   "source": [
    "<h1><b>&nbsp;&nbsp;&nbsp;&nbsp;&nbsp;&nbsp;&nbsp;&nbsp;&nbsp;&nbsp;&nbsp;&nbsp;&nbsp;&nbsp;&nbsp;&nbsp;&nbsp;----------------------------------------------------------------------------------</b></h1> \n",
    "<h1><b>&nbsp;&nbsp;&nbsp;&nbsp;&nbsp;&nbsp;&nbsp;&nbsp;&nbsp;&nbsp;&nbsp;&nbsp;&nbsp;&nbsp;&nbsp;&nbsp;&nbsp;Task 2: Prediction Using Unsupervised Machine Learning</b></h1>  \n",
    "<h1><b>&nbsp;&nbsp;&nbsp;&nbsp;&nbsp;&nbsp;&nbsp;&nbsp;&nbsp;&nbsp;&nbsp;&nbsp;&nbsp;&nbsp;&nbsp;&nbsp;&nbsp;----------------------------------------------------------------------------------</b></h1> "
   ]
  },
  {
   "cell_type": "markdown",
   "id": "0aafbc22",
   "metadata": {},
   "source": [
    "<h3><b>Author:</b></h3>\n",
    "\n",
    "TATI Mohammed, Data Scientist\n",
    "<h1><b>&nbsp;&nbsp;&nbsp;&nbsp;&nbsp;&nbsp;&nbsp;&nbsp;&nbsp;&nbsp;&nbsp;&nbsp;&nbsp;&nbsp;&nbsp;&nbsp;&nbsp;----------------------------------------------------------------------------------</b></h1> "
   ]
  },
  {
   "cell_type": "markdown",
   "id": "d45cdcd4",
   "metadata": {},
   "source": [
    "<h2>Task description</h2>"
   ]
  },
  {
   "cell_type": "markdown",
   "id": "211dfe42",
   "metadata": {},
   "source": [
    "Our goal in this task is to predict the optimal number of clusters, in order to doing that we will use <b>The elbow method</b>.\n",
    "Which mean we will calculate the <b>WCSS</b>, WCSS is <b>the sum of squared distance between each point and the centroid in a cluster</b>."
   ]
  },
  {
   "cell_type": "markdown",
   "id": "11451c58",
   "metadata": {},
   "source": [
    "To determine the optimal number of clusters, we have to select the value of k at the “elbow” which is the point after <b>the inertia start decreasing in a linear way</b>."
   ]
  },
  {
   "cell_type": "markdown",
   "id": "cb9b42a4",
   "metadata": {},
   "source": [
    "And finally we will visuals the clusters."
   ]
  },
  {
   "cell_type": "markdown",
   "id": "d57f0d1a",
   "metadata": {},
   "source": [
    "<h2><b>Importing all libraries required</b></h2>"
   ]
  },
  {
   "cell_type": "code",
   "execution_count": 1,
   "id": "4e6f7da2",
   "metadata": {},
   "outputs": [],
   "source": [
    "# Manipulating the data\n",
    "import pandas as pd\n",
    "import numpy as np\n",
    "\n",
    "# Visualisation\n",
    "import matplotlib.pyplot as plt\n",
    "\n",
    "# model library\n",
    "from sklearn.cluster import KMeans"
   ]
  },
  {
   "cell_type": "markdown",
   "id": "e1ef3911",
   "metadata": {},
   "source": [
    "<h2><b>Creating a Dataframe from the .csv file</b></h2>"
   ]
  },
  {
   "cell_type": "code",
   "execution_count": 2,
   "id": "20ebed3c",
   "metadata": {},
   "outputs": [
    {
     "data": {
      "text/html": [
       "<div>\n",
       "<style scoped>\n",
       "    .dataframe tbody tr th:only-of-type {\n",
       "        vertical-align: middle;\n",
       "    }\n",
       "\n",
       "    .dataframe tbody tr th {\n",
       "        vertical-align: top;\n",
       "    }\n",
       "\n",
       "    .dataframe thead th {\n",
       "        text-align: right;\n",
       "    }\n",
       "</style>\n",
       "<table border=\"1\" class=\"dataframe\">\n",
       "  <thead>\n",
       "    <tr style=\"text-align: right;\">\n",
       "      <th></th>\n",
       "      <th>Id</th>\n",
       "      <th>SepalLengthCm</th>\n",
       "      <th>SepalWidthCm</th>\n",
       "      <th>PetalLengthCm</th>\n",
       "      <th>PetalWidthCm</th>\n",
       "      <th>Species</th>\n",
       "    </tr>\n",
       "  </thead>\n",
       "  <tbody>\n",
       "    <tr>\n",
       "      <th>0</th>\n",
       "      <td>1</td>\n",
       "      <td>5.1</td>\n",
       "      <td>3.5</td>\n",
       "      <td>1.4</td>\n",
       "      <td>0.2</td>\n",
       "      <td>Iris-setosa</td>\n",
       "    </tr>\n",
       "    <tr>\n",
       "      <th>1</th>\n",
       "      <td>2</td>\n",
       "      <td>4.9</td>\n",
       "      <td>3.0</td>\n",
       "      <td>1.4</td>\n",
       "      <td>0.2</td>\n",
       "      <td>Iris-setosa</td>\n",
       "    </tr>\n",
       "    <tr>\n",
       "      <th>2</th>\n",
       "      <td>3</td>\n",
       "      <td>4.7</td>\n",
       "      <td>3.2</td>\n",
       "      <td>1.3</td>\n",
       "      <td>0.2</td>\n",
       "      <td>Iris-setosa</td>\n",
       "    </tr>\n",
       "    <tr>\n",
       "      <th>3</th>\n",
       "      <td>4</td>\n",
       "      <td>4.6</td>\n",
       "      <td>3.1</td>\n",
       "      <td>1.5</td>\n",
       "      <td>0.2</td>\n",
       "      <td>Iris-setosa</td>\n",
       "    </tr>\n",
       "    <tr>\n",
       "      <th>4</th>\n",
       "      <td>5</td>\n",
       "      <td>5.0</td>\n",
       "      <td>3.6</td>\n",
       "      <td>1.4</td>\n",
       "      <td>0.2</td>\n",
       "      <td>Iris-setosa</td>\n",
       "    </tr>\n",
       "  </tbody>\n",
       "</table>\n",
       "</div>"
      ],
      "text/plain": [
       "   Id  SepalLengthCm  SepalWidthCm  PetalLengthCm  PetalWidthCm      Species\n",
       "0   1            5.1           3.5            1.4           0.2  Iris-setosa\n",
       "1   2            4.9           3.0            1.4           0.2  Iris-setosa\n",
       "2   3            4.7           3.2            1.3           0.2  Iris-setosa\n",
       "3   4            4.6           3.1            1.5           0.2  Iris-setosa\n",
       "4   5            5.0           3.6            1.4           0.2  Iris-setosa"
      ]
     },
     "execution_count": 2,
     "metadata": {},
     "output_type": "execute_result"
    }
   ],
   "source": [
    "# the .csv file \n",
    "file = 'C:\\\\Iris.csv'\n",
    "\n",
    "# Creating a DataFrame\n",
    "data = pd.read_csv(file)\n",
    "\n",
    "# Showing the first five rows\n",
    "data.head()"
   ]
  },
  {
   "cell_type": "markdown",
   "id": "359d5a5b",
   "metadata": {},
   "source": [
    "<h2><b>Preparing The Data"
   ]
  },
  {
   "cell_type": "code",
   "execution_count": 3,
   "id": "91828e09",
   "metadata": {},
   "outputs": [
    {
     "data": {
      "text/plain": [
       "(150, 4)"
      ]
     },
     "execution_count": 3,
     "metadata": {},
     "output_type": "execute_result"
    }
   ],
   "source": [
    "# Setting the features SepalLengthCm, SepalLengthCm, SepalLengthCm and PetalWidthCm in x\n",
    "x = data.iloc[:, [1, 2, 3, 4]].values\n",
    "x.shape"
   ]
  },
  {
   "cell_type": "markdown",
   "id": "c1c3cba9",
   "metadata": {},
   "source": [
    "<h2>Finding the optimum number of clusters"
   ]
  },
  {
   "cell_type": "code",
   "execution_count": 4,
   "id": "233c1f1b",
   "metadata": {},
   "outputs": [
    {
     "data": {
      "image/png": "[encoded data removed]",
      "text/plain": [
       "<Figure size 640x480 with 1 Axes>"
      ]
     },
     "metadata": {},
     "output_type": "display_data"
    }
   ],
   "source": [
    "# List of the cluster numbers\n",
    "K = range(1, 16) # we started with 1 to avoid null cluster\n",
    "\n",
    "# List to store the within cluster sum of squares (WCSS)\n",
    "wcss_history = []\n",
    "\n",
    "for k in K:\n",
    "    # Implementing the KMeans with k clusters\n",
    "    kmeans = KMeans(n_clusters = k, random_state = 0) \n",
    "    \n",
    "    # Fitting the model with x\n",
    "    kmeans.fit(x)\n",
    "    \n",
    "    # Storing the value of WCSS at each k cluters\n",
    "    wcss_history.append(kmeans.inertia_)\n",
    "    \n",
    "# Plotting to observe 'The elbow'\n",
    "plt.title('The elbow method')\n",
    "plt.plot(K, wcss_history, c='r')\n",
    "plt.xlabel('Number of clusters')\n",
    "plt.ylabel('WCSS')\n",
    "plt.show()"
   ]
  },
  {
   "cell_type": "markdown",
   "id": "fa9e0223",
   "metadata": {},
   "source": [
    "<h3>Notice:"
   ]
  },
  {
   "cell_type": "markdown",
   "id": "d672848b",
   "metadata": {},
   "source": [
    "+ As we can see the inertia start decreasing in a linear way with a value of k equal to 3. \n",
    "+ So our prediction of numbers of clusters is <b>3</b>"
   ]
  },
  {
   "cell_type": "markdown",
   "id": "003237c3",
   "metadata": {},
   "source": [
    "<h2>Creating the kmeans classifier"
   ]
  },
  {
   "cell_type": "code",
   "execution_count": 5,
   "id": "bcb4e1ca",
   "metadata": {},
   "outputs": [
    {
     "name": "stdout",
     "output_type": "stream",
     "text": [
      "[1 1 1 1 1 1 1 1 1 1 1 1 1 1 1 1 1 1 1 1 1 1 1 1 1 1 1 1 1 1 1 1 1 1 1 1 1\n",
      " 1 1 1 1 1 1 1 1 1 1 1 1 1 0 0 2 0 0 0 0 0 0 0 0 0 0 0 0 0 0 0 0 0 0 0 0 0\n",
      " 0 0 0 2 0 0 0 0 0 0 0 0 0 0 0 0 0 0 0 0 0 0 0 0 0 0 2 0 2 2 2 2 0 2 2 2 2\n",
      " 2 2 0 0 2 2 2 2 0 2 0 2 0 2 2 0 0 2 2 2 2 2 0 2 2 2 2 0 2 2 2 0 2 2 2 0 2\n",
      " 2 0]\n"
     ]
    }
   ],
   "source": [
    "# Implementing the kmeans classifier to the dataset  \n",
    "kmeans = KMeans(n_clusters = 3, random_state = 0)\n",
    "\n",
    "# Fitting the model \n",
    "label = kmeans.fit_predict(x) # predict the labels of clusters.\n",
    "print(label)"
   ]
  },
  {
   "cell_type": "markdown",
   "id": "d811e4e8",
   "metadata": {},
   "source": [
    "<h3>Notice:</h3>"
   ]
  },
  {
   "cell_type": "markdown",
   "id": "990c7f8e",
   "metadata": {},
   "source": [
    "+ <b>kmeans.fit_predict</b> method returns the array of cluster labels each data point belongs to.\n",
    "+ Let's get the species for our labels"
   ]
  },
  {
   "cell_type": "code",
   "execution_count": 6,
   "id": "d59c8f12",
   "metadata": {},
   "outputs": [
    {
     "name": "stdout",
     "output_type": "stream",
     "text": [
      "label 0 : 55    Iris-versicolor\n",
      "Name: Species, dtype: object\n",
      "label 1 : 4    Iris-setosa\n",
      "Name: Species, dtype: object\n",
      "label 2 : 103    Iris-virginica\n",
      "Name: Species, dtype: object\n"
     ]
    }
   ],
   "source": [
    "print(f'label 0 : {data.Species[label == 0][4:5]}')\n",
    "print(f'label 1 : {data.Species[label == 1][4:5]}')\n",
    "print(f'label 2 : {data.Species[label == 2][4:5]}')"
   ]
  },
  {
   "cell_type": "markdown",
   "id": "5a783c09",
   "metadata": {},
   "source": [
    "<h3>Notice:"
   ]
  },
  {
   "cell_type": "markdown",
   "id": "d056a3fe",
   "metadata": {},
   "source": [
    "+ So <b>label 0</b> for <b>Iris-versicolor</b>\n",
    "+ So <b>label 1</b> for <b>Iris-setosa</b>\n",
    "+ So <b>label 2</b> for <b>Iris-virginica</b>"
   ]
  },
  {
   "cell_type": "code",
   "execution_count": 7,
   "id": "22ff6cb0",
   "metadata": {},
   "outputs": [
    {
     "data": {
      "image/png": "[encoded data removed]",
      "text/plain": [
       "<Figure size 640x480 with 1 Axes>"
      ]
     },
     "metadata": {},
     "output_type": "display_data"
    }
   ],
   "source": [
    "#filter rows of original data\n",
    "label0 = x[label == 0]\n",
    "label1 = x[label == 1]\n",
    "label2 = x[label == 2]\n",
    "\n",
    " \n",
    "#plotting the results\n",
    "plt.scatter(label0[:,0] , label0[:,1], color = 'red', label='Iris-versicolor')\n",
    "plt.scatter(label1[:,0] , label1[:,1], color = 'blue', label='Iris-setosa')\n",
    "plt.scatter(label2[:,0] , label2[:,1], color = 'black', label='Iris-virginica')\n",
    "plt.legend()\n",
    "plt.show()"
   ]
  },
  {
   "cell_type": "markdown",
   "id": "14962112",
   "metadata": {},
   "source": [
    "<h2>The Task Completed.&nbsp;&nbsp;&nbsp;&nbsp;&nbsp;&nbsp;&nbsp;&nbsp;&nbsp;&nbsp;&nbsp;&nbsp;&nbsp;&nbsp;&nbsp;&nbsp;&nbsp;&nbsp;&nbsp;&nbsp;&nbsp;&nbsp;&nbsp;&nbsp;&nbsp;&nbsp;&nbsp;&nbsp;&nbsp;&nbsp;&nbsp;&nbsp;&nbsp;&nbsp;&nbsp;&nbsp;&nbsp;&nbsp;&nbsp;&nbsp;&nbsp;&nbsp;&nbsp;&nbsp;&nbsp;&nbsp;&nbsp;&nbsp;&nbsp;&nbsp;&nbsp;&nbsp;&nbsp;&nbsp;&nbsp;&nbsp;&nbsp;&nbsp;&nbsp;&nbsp;&nbsp;&nbsp;&nbsp;&nbsp;&nbsp;&nbsp;&nbsp;&nbsp;&nbsp;&nbsp;&nbsp;&nbsp;&nbsp;&nbsp;&nbsp;&nbsp;&nbsp;&nbsp;&nbsp;&nbsp;&nbsp;&nbsp;&nbsp;&nbsp;&nbsp;&nbsp;&nbsp;&nbsp;&nbsp;&nbsp;&nbsp;&nbsp;&nbsp;&nbsp;&nbsp;&nbsp;&nbsp;&nbsp;&nbsp;&nbsp;&nbsp;&nbsp;TATI"
   ]
  }
 ],
 "metadata": {
  "kernelspec": {
   "display_name": "Python 3 (ipykernel)",
   "language": "python",
   "name": "python3"
  },
  "language_info": {
   "codemirror_mode": {
    "name": "ipython",
    "version": 3
   },
   "file_extension": ".py",
   "mimetype": "text/x-python",
   "name": "python",
   "nbconvert_exporter": "python",
   "pygments_lexer": "ipython3",
   "version": "3.10.2"
  }
 },
 "nbformat": 4,
 "nbformat_minor": 5
}
